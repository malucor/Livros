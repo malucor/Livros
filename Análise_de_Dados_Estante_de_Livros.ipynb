{
  "nbformat": 4,
  "nbformat_minor": 0,
  "metadata": {
    "colab": {
      "provenance": []
    },
    "kernelspec": {
      "name": "python3",
      "display_name": "Python 3"
    },
    "language_info": {
      "name": "python"
    }
  },
  "cells": [
    {
      "cell_type": "markdown",
      "source": [
        "# **Análise de Dados**: Estante de Livros\n",
        "\n",
        "[LinkedIn](https://www.linkedin.com/in/malu-analise-de-dados/)<br>\n",
        "[GitHub](https://github.com/malucor)\n",
        "\n",
        "---"
      ],
      "metadata": {
        "id": "MaA30uN951mC"
      }
    },
    {
      "cell_type": "markdown",
      "source": [
        "## 1\\. Contexto"
      ],
      "metadata": {
        "id": "wixBphXB6mEK"
      }
    },
    {
      "cell_type": "markdown",
      "source": [
        "Foram analisados dados extraídos de uma planilha Excel com informações relacionadas aos livros presentes em uma estante."
      ],
      "metadata": {
        "id": "4c4MgV5j6rgW"
      }
    },
    {
      "cell_type": "markdown",
      "source": [
        "\n",
        "\n",
        "---\n",
        "\n",
        "\n",
        "\n",
        "## 2\\. Pacotes e bibliotecas"
      ],
      "metadata": {
        "id": "84nzgol98133"
      }
    },
    {
      "cell_type": "code",
      "source": [
        "import csv\n",
        "import pandas as pd\n",
        "import seaborn as sns\n",
        "import matplotlib.pyplot as plt\n",
        "from openpyxl import load_workbook"
      ],
      "metadata": {
        "id": "Vum7fleo9Z4w"
      },
      "execution_count": 1,
      "outputs": []
    },
    {
      "cell_type": "markdown",
      "source": [
        "\n",
        "\n",
        "---\n",
        "\n",
        "\n",
        "\n",
        "## 3\\. Exploração de dados"
      ],
      "metadata": {
        "id": "NHSrygCd90Cv"
      }
    },
    {
      "cell_type": "markdown",
      "source": [
        "### 3\\.1 Coleta de Dados"
      ],
      "metadata": {
        "id": "RcVg32ER91Kn"
      }
    },
    {
      "cell_type": "code",
      "source": [
        "planilhas = load_workbook(filename='meus_livros.xlsx')"
      ],
      "metadata": {
        "id": "51dypqaZ-RZP"
      },
      "execution_count": 2,
      "outputs": []
    },
    {
      "cell_type": "code",
      "source": [
        "serie = []\n",
        "ordem = []\n",
        "titulo = []\n",
        "autor = []\n",
        "paginas = []\n",
        "situacao = []"
      ],
      "metadata": {
        "id": "QsNbgGgD_aoi"
      },
      "execution_count": 3,
      "outputs": []
    },
    {
      "cell_type": "code",
      "source": [
        "planilha = planilhas.active\n",
        "cabecalho = next(planilha.values)"
      ],
      "metadata": {
        "id": "DMuwXo2H-9NP"
      },
      "execution_count": 4,
      "outputs": []
    },
    {
      "cell_type": "code",
      "source": [
        "indice_serie = cabecalho.index('SÉRIE')\n",
        "serie = [linha[indice_serie] for linha in planilha.values]\n",
        "\n",
        "indice_ordem = cabecalho.index('ORDEM')\n",
        "ordem = [linha[indice_ordem] for linha in planilha.values]\n",
        "\n",
        "indice_titulo = cabecalho.index('TÍTULO')\n",
        "titulo = [linha[indice_titulo] for linha in planilha.values]\n",
        "\n",
        "indice_autor = cabecalho.index('AUTOR')\n",
        "autor = [linha[indice_autor] for linha in planilha.values]\n",
        "\n",
        "indice_paginas = cabecalho.index('PÁGINAS')\n",
        "paginas = [linha[indice_paginas] for linha in planilha.values]\n",
        "\n",
        "indice_situacao = cabecalho.index('SITUAÇÃO')\n",
        "situacao = [linha[indice_situacao] for linha in planilha.values]"
      ],
      "metadata": {
        "id": "SysyMZVA_ltn"
      },
      "execution_count": 5,
      "outputs": []
    },
    {
      "cell_type": "code",
      "source": [
        "with open(file='./meus_livros.csv', mode='w', encoding='utf8') as arquivo:\n",
        "    escritor_csv = csv.writer(arquivo, delimiter=',')\n",
        "    for valores in zip(serie, ordem, titulo, autor, paginas, situacao):\n",
        "        escritor_csv.writerow(valores)"
      ],
      "metadata": {
        "id": "RVUz50rpDKui"
      },
      "execution_count": 6,
      "outputs": []
    },
    {
      "cell_type": "markdown",
      "source": [
        "### 3\\.2 Wrangling da Estrutura"
      ],
      "metadata": {
        "id": "kCpTB74U-8fX"
      }
    },
    {
      "cell_type": "code",
      "source": [
        "livros_df = pd.read_csv('meus_livros.csv')\n",
        "livros_df.head()"
      ],
      "metadata": {
        "colab": {
          "base_uri": "https://localhost:8080/",
          "height": 206
        },
        "id": "iKE64i59DiI0",
        "outputId": "0d76e509-863d-4811-c3f3-ebdf971c021f"
      },
      "execution_count": 7,
      "outputs": [
        {
          "output_type": "execute_result",
          "data": {
            "text/plain": [
              "                                               SÉRIE ORDEM    TÍTULO  \\\n",
              "0  Mo Dao Zu Shi: O Fundador da Cultivação Demoníaca     1  Volume 1   \n",
              "1  Mo Dao Zu Shi: O Fundador da Cultivação Demoníaca     2  Volume 2   \n",
              "2              Wotakoi: O Amor é Difícil para Otakus     1  Volume 1   \n",
              "3                                           Horimiya     1  Volume 1   \n",
              "4                            Kagua-sama, Love is War     1  Volume 1   \n",
              "\n",
              "               AUTOR PÁGINAS SITUAÇÃO  \n",
              "0  Mo Xiang Tong Xiu     472     lido  \n",
              "1  Mo Xiang Tong Xiu     456    lendo  \n",
              "2             Fujita     128     lido  \n",
              "3               HERO     176     lido  \n",
              "4        Aka Akasaka     212     lido  "
            ],
            "text/html": [
              "\n",
              "  <div id=\"df-5fd6a8af-49d7-4de8-98af-d10ab5eb33a7\">\n",
              "    <div class=\"colab-df-container\">\n",
              "      <div>\n",
              "<style scoped>\n",
              "    .dataframe tbody tr th:only-of-type {\n",
              "        vertical-align: middle;\n",
              "    }\n",
              "\n",
              "    .dataframe tbody tr th {\n",
              "        vertical-align: top;\n",
              "    }\n",
              "\n",
              "    .dataframe thead th {\n",
              "        text-align: right;\n",
              "    }\n",
              "</style>\n",
              "<table border=\"1\" class=\"dataframe\">\n",
              "  <thead>\n",
              "    <tr style=\"text-align: right;\">\n",
              "      <th></th>\n",
              "      <th>SÉRIE</th>\n",
              "      <th>ORDEM</th>\n",
              "      <th>TÍTULO</th>\n",
              "      <th>AUTOR</th>\n",
              "      <th>PÁGINAS</th>\n",
              "      <th>SITUAÇÃO</th>\n",
              "    </tr>\n",
              "  </thead>\n",
              "  <tbody>\n",
              "    <tr>\n",
              "      <th>0</th>\n",
              "      <td>Mo Dao Zu Shi: O Fundador da Cultivação Demoníaca</td>\n",
              "      <td>1</td>\n",
              "      <td>Volume 1</td>\n",
              "      <td>Mo Xiang Tong Xiu</td>\n",
              "      <td>472</td>\n",
              "      <td>lido</td>\n",
              "    </tr>\n",
              "    <tr>\n",
              "      <th>1</th>\n",
              "      <td>Mo Dao Zu Shi: O Fundador da Cultivação Demoníaca</td>\n",
              "      <td>2</td>\n",
              "      <td>Volume 2</td>\n",
              "      <td>Mo Xiang Tong Xiu</td>\n",
              "      <td>456</td>\n",
              "      <td>lendo</td>\n",
              "    </tr>\n",
              "    <tr>\n",
              "      <th>2</th>\n",
              "      <td>Wotakoi: O Amor é Difícil para Otakus</td>\n",
              "      <td>1</td>\n",
              "      <td>Volume 1</td>\n",
              "      <td>Fujita</td>\n",
              "      <td>128</td>\n",
              "      <td>lido</td>\n",
              "    </tr>\n",
              "    <tr>\n",
              "      <th>3</th>\n",
              "      <td>Horimiya</td>\n",
              "      <td>1</td>\n",
              "      <td>Volume 1</td>\n",
              "      <td>HERO</td>\n",
              "      <td>176</td>\n",
              "      <td>lido</td>\n",
              "    </tr>\n",
              "    <tr>\n",
              "      <th>4</th>\n",
              "      <td>Kagua-sama, Love is War</td>\n",
              "      <td>1</td>\n",
              "      <td>Volume 1</td>\n",
              "      <td>Aka Akasaka</td>\n",
              "      <td>212</td>\n",
              "      <td>lido</td>\n",
              "    </tr>\n",
              "  </tbody>\n",
              "</table>\n",
              "</div>\n",
              "      <button class=\"colab-df-convert\" onclick=\"convertToInteractive('df-5fd6a8af-49d7-4de8-98af-d10ab5eb33a7')\"\n",
              "              title=\"Convert this dataframe to an interactive table.\"\n",
              "              style=\"display:none;\">\n",
              "        \n",
              "  <svg xmlns=\"http://www.w3.org/2000/svg\" height=\"24px\"viewBox=\"0 0 24 24\"\n",
              "       width=\"24px\">\n",
              "    <path d=\"M0 0h24v24H0V0z\" fill=\"none\"/>\n",
              "    <path d=\"M18.56 5.44l.94 2.06.94-2.06 2.06-.94-2.06-.94-.94-2.06-.94 2.06-2.06.94zm-11 1L8.5 8.5l.94-2.06 2.06-.94-2.06-.94L8.5 2.5l-.94 2.06-2.06.94zm10 10l.94 2.06.94-2.06 2.06-.94-2.06-.94-.94-2.06-.94 2.06-2.06.94z\"/><path d=\"M17.41 7.96l-1.37-1.37c-.4-.4-.92-.59-1.43-.59-.52 0-1.04.2-1.43.59L10.3 9.45l-7.72 7.72c-.78.78-.78 2.05 0 2.83L4 21.41c.39.39.9.59 1.41.59.51 0 1.02-.2 1.41-.59l7.78-7.78 2.81-2.81c.8-.78.8-2.07 0-2.86zM5.41 20L4 18.59l7.72-7.72 1.47 1.35L5.41 20z\"/>\n",
              "  </svg>\n",
              "      </button>\n",
              "      \n",
              "  <style>\n",
              "    .colab-df-container {\n",
              "      display:flex;\n",
              "      flex-wrap:wrap;\n",
              "      gap: 12px;\n",
              "    }\n",
              "\n",
              "    .colab-df-convert {\n",
              "      background-color: #E8F0FE;\n",
              "      border: none;\n",
              "      border-radius: 50%;\n",
              "      cursor: pointer;\n",
              "      display: none;\n",
              "      fill: #1967D2;\n",
              "      height: 32px;\n",
              "      padding: 0 0 0 0;\n",
              "      width: 32px;\n",
              "    }\n",
              "\n",
              "    .colab-df-convert:hover {\n",
              "      background-color: #E2EBFA;\n",
              "      box-shadow: 0px 1px 2px rgba(60, 64, 67, 0.3), 0px 1px 3px 1px rgba(60, 64, 67, 0.15);\n",
              "      fill: #174EA6;\n",
              "    }\n",
              "\n",
              "    [theme=dark] .colab-df-convert {\n",
              "      background-color: #3B4455;\n",
              "      fill: #D2E3FC;\n",
              "    }\n",
              "\n",
              "    [theme=dark] .colab-df-convert:hover {\n",
              "      background-color: #434B5C;\n",
              "      box-shadow: 0px 1px 3px 1px rgba(0, 0, 0, 0.15);\n",
              "      filter: drop-shadow(0px 1px 2px rgba(0, 0, 0, 0.3));\n",
              "      fill: #FFFFFF;\n",
              "    }\n",
              "  </style>\n",
              "\n",
              "      <script>\n",
              "        const buttonEl =\n",
              "          document.querySelector('#df-5fd6a8af-49d7-4de8-98af-d10ab5eb33a7 button.colab-df-convert');\n",
              "        buttonEl.style.display =\n",
              "          google.colab.kernel.accessAllowed ? 'block' : 'none';\n",
              "\n",
              "        async function convertToInteractive(key) {\n",
              "          const element = document.querySelector('#df-5fd6a8af-49d7-4de8-98af-d10ab5eb33a7');\n",
              "          const dataTable =\n",
              "            await google.colab.kernel.invokeFunction('convertToInteractive',\n",
              "                                                     [key], {});\n",
              "          if (!dataTable) return;\n",
              "\n",
              "          const docLinkHtml = 'Like what you see? Visit the ' +\n",
              "            '<a target=\"_blank\" href=https://colab.research.google.com/notebooks/data_table.ipynb>data table notebook</a>'\n",
              "            + ' to learn more about interactive tables.';\n",
              "          element.innerHTML = '';\n",
              "          dataTable['output_type'] = 'display_data';\n",
              "          await google.colab.output.renderOutput(dataTable, element);\n",
              "          const docLink = document.createElement('div');\n",
              "          docLink.innerHTML = docLinkHtml;\n",
              "          element.appendChild(docLink);\n",
              "        }\n",
              "      </script>\n",
              "    </div>\n",
              "  </div>\n",
              "  "
            ]
          },
          "metadata": {},
          "execution_count": 7
        }
      ]
    },
    {
      "cell_type": "markdown",
      "source": [
        "### 3\\.3 Explorção do Schema"
      ],
      "metadata": {
        "id": "mfcl5-25Fd75"
      }
    },
    {
      "cell_type": "code",
      "source": [
        "livros_df.dtypes"
      ],
      "metadata": {
        "colab": {
          "base_uri": "https://localhost:8080/"
        },
        "id": "I_sjDYE8FeuX",
        "outputId": "d373a4d1-e6d3-4f06-aa29-d6f7a2748d06"
      },
      "execution_count": 8,
      "outputs": [
        {
          "output_type": "execute_result",
          "data": {
            "text/plain": [
              "SÉRIE       object\n",
              "ORDEM       object\n",
              "TÍTULO      object\n",
              "AUTOR       object\n",
              "PÁGINAS     object\n",
              "SITUAÇÃO    object\n",
              "dtype: object"
            ]
          },
          "metadata": {},
          "execution_count": 8
        }
      ]
    },
    {
      "cell_type": "markdown",
      "source": [
        "### 3\\.4 Dados Faltantes"
      ],
      "metadata": {
        "id": "ORNh_ampF_Wo"
      }
    },
    {
      "cell_type": "code",
      "source": [
        "livros_df.isna().any()"
      ],
      "metadata": {
        "colab": {
          "base_uri": "https://localhost:8080/"
        },
        "id": "19ZKIXPRGAA_",
        "outputId": "c5d4c364-7652-4b42-8ebc-bff34541dba2"
      },
      "execution_count": 9,
      "outputs": [
        {
          "output_type": "execute_result",
          "data": {
            "text/plain": [
              "SÉRIE        True\n",
              "ORDEM        True\n",
              "TÍTULO      False\n",
              "AUTOR       False\n",
              "PÁGINAS     False\n",
              "SITUAÇÃO    False\n",
              "dtype: bool"
            ]
          },
          "metadata": {},
          "execution_count": 9
        }
      ]
    },
    {
      "cell_type": "markdown",
      "source": [
        "\n",
        "\n",
        "---\n",
        "\n",
        "\n",
        "\n",
        "## 4\\. Manipulação"
      ],
      "metadata": {
        "id": "f3fs_ffMGQBC"
      }
    },
    {
      "cell_type": "markdown",
      "source": [
        "### 4\\.1 Enriquecimento"
      ],
      "metadata": {
        "id": "4mr5T_mZGQ_v"
      }
    },
    {
      "cell_type": "code",
      "source": [
        "contagem = livros_df['SITUAÇÃO'].value_counts()\n",
        "contagem"
      ],
      "metadata": {
        "colab": {
          "base_uri": "https://localhost:8080/"
        },
        "id": "ZT9tXj5uGbuv",
        "outputId": "26ae2503-0fe8-4c2e-f6ea-7a345c720e1e"
      },
      "execution_count": 10,
      "outputs": [
        {
          "output_type": "execute_result",
          "data": {
            "text/plain": [
              "lido        127\n",
              "não lido     46\n",
              "lendo        26\n",
              "Name: SITUAÇÃO, dtype: int64"
            ]
          },
          "metadata": {},
          "execution_count": 10
        }
      ]
    },
    {
      "cell_type": "code",
      "source": [
        "situacao_df = pd.DataFrame({'Situação': contagem.index, 'Frequência': contagem.values})\n",
        "situacao_df"
      ],
      "metadata": {
        "colab": {
          "base_uri": "https://localhost:8080/",
          "height": 143
        },
        "id": "EXlAV8rEGlfn",
        "outputId": "dcabe87b-956f-4b64-fe07-cfce74f3057b"
      },
      "execution_count": 11,
      "outputs": [
        {
          "output_type": "execute_result",
          "data": {
            "text/plain": [
              "   Situação  Frequência\n",
              "0      lido         127\n",
              "1  não lido          46\n",
              "2     lendo          26"
            ],
            "text/html": [
              "\n",
              "  <div id=\"df-2d570d7e-0c9f-43b4-ae82-baf9061d7a5a\">\n",
              "    <div class=\"colab-df-container\">\n",
              "      <div>\n",
              "<style scoped>\n",
              "    .dataframe tbody tr th:only-of-type {\n",
              "        vertical-align: middle;\n",
              "    }\n",
              "\n",
              "    .dataframe tbody tr th {\n",
              "        vertical-align: top;\n",
              "    }\n",
              "\n",
              "    .dataframe thead th {\n",
              "        text-align: right;\n",
              "    }\n",
              "</style>\n",
              "<table border=\"1\" class=\"dataframe\">\n",
              "  <thead>\n",
              "    <tr style=\"text-align: right;\">\n",
              "      <th></th>\n",
              "      <th>Situação</th>\n",
              "      <th>Frequência</th>\n",
              "    </tr>\n",
              "  </thead>\n",
              "  <tbody>\n",
              "    <tr>\n",
              "      <th>0</th>\n",
              "      <td>lido</td>\n",
              "      <td>127</td>\n",
              "    </tr>\n",
              "    <tr>\n",
              "      <th>1</th>\n",
              "      <td>não lido</td>\n",
              "      <td>46</td>\n",
              "    </tr>\n",
              "    <tr>\n",
              "      <th>2</th>\n",
              "      <td>lendo</td>\n",
              "      <td>26</td>\n",
              "    </tr>\n",
              "  </tbody>\n",
              "</table>\n",
              "</div>\n",
              "      <button class=\"colab-df-convert\" onclick=\"convertToInteractive('df-2d570d7e-0c9f-43b4-ae82-baf9061d7a5a')\"\n",
              "              title=\"Convert this dataframe to an interactive table.\"\n",
              "              style=\"display:none;\">\n",
              "        \n",
              "  <svg xmlns=\"http://www.w3.org/2000/svg\" height=\"24px\"viewBox=\"0 0 24 24\"\n",
              "       width=\"24px\">\n",
              "    <path d=\"M0 0h24v24H0V0z\" fill=\"none\"/>\n",
              "    <path d=\"M18.56 5.44l.94 2.06.94-2.06 2.06-.94-2.06-.94-.94-2.06-.94 2.06-2.06.94zm-11 1L8.5 8.5l.94-2.06 2.06-.94-2.06-.94L8.5 2.5l-.94 2.06-2.06.94zm10 10l.94 2.06.94-2.06 2.06-.94-2.06-.94-.94-2.06-.94 2.06-2.06.94z\"/><path d=\"M17.41 7.96l-1.37-1.37c-.4-.4-.92-.59-1.43-.59-.52 0-1.04.2-1.43.59L10.3 9.45l-7.72 7.72c-.78.78-.78 2.05 0 2.83L4 21.41c.39.39.9.59 1.41.59.51 0 1.02-.2 1.41-.59l7.78-7.78 2.81-2.81c.8-.78.8-2.07 0-2.86zM5.41 20L4 18.59l7.72-7.72 1.47 1.35L5.41 20z\"/>\n",
              "  </svg>\n",
              "      </button>\n",
              "      \n",
              "  <style>\n",
              "    .colab-df-container {\n",
              "      display:flex;\n",
              "      flex-wrap:wrap;\n",
              "      gap: 12px;\n",
              "    }\n",
              "\n",
              "    .colab-df-convert {\n",
              "      background-color: #E8F0FE;\n",
              "      border: none;\n",
              "      border-radius: 50%;\n",
              "      cursor: pointer;\n",
              "      display: none;\n",
              "      fill: #1967D2;\n",
              "      height: 32px;\n",
              "      padding: 0 0 0 0;\n",
              "      width: 32px;\n",
              "    }\n",
              "\n",
              "    .colab-df-convert:hover {\n",
              "      background-color: #E2EBFA;\n",
              "      box-shadow: 0px 1px 2px rgba(60, 64, 67, 0.3), 0px 1px 3px 1px rgba(60, 64, 67, 0.15);\n",
              "      fill: #174EA6;\n",
              "    }\n",
              "\n",
              "    [theme=dark] .colab-df-convert {\n",
              "      background-color: #3B4455;\n",
              "      fill: #D2E3FC;\n",
              "    }\n",
              "\n",
              "    [theme=dark] .colab-df-convert:hover {\n",
              "      background-color: #434B5C;\n",
              "      box-shadow: 0px 1px 3px 1px rgba(0, 0, 0, 0.15);\n",
              "      filter: drop-shadow(0px 1px 2px rgba(0, 0, 0, 0.3));\n",
              "      fill: #FFFFFF;\n",
              "    }\n",
              "  </style>\n",
              "\n",
              "      <script>\n",
              "        const buttonEl =\n",
              "          document.querySelector('#df-2d570d7e-0c9f-43b4-ae82-baf9061d7a5a button.colab-df-convert');\n",
              "        buttonEl.style.display =\n",
              "          google.colab.kernel.accessAllowed ? 'block' : 'none';\n",
              "\n",
              "        async function convertToInteractive(key) {\n",
              "          const element = document.querySelector('#df-2d570d7e-0c9f-43b4-ae82-baf9061d7a5a');\n",
              "          const dataTable =\n",
              "            await google.colab.kernel.invokeFunction('convertToInteractive',\n",
              "                                                     [key], {});\n",
              "          if (!dataTable) return;\n",
              "\n",
              "          const docLinkHtml = 'Like what you see? Visit the ' +\n",
              "            '<a target=\"_blank\" href=https://colab.research.google.com/notebooks/data_table.ipynb>data table notebook</a>'\n",
              "            + ' to learn more about interactive tables.';\n",
              "          element.innerHTML = '';\n",
              "          dataTable['output_type'] = 'display_data';\n",
              "          await google.colab.output.renderOutput(dataTable, element);\n",
              "          const docLink = document.createElement('div');\n",
              "          docLink.innerHTML = docLinkHtml;\n",
              "          element.appendChild(docLink);\n",
              "        }\n",
              "      </script>\n",
              "    </div>\n",
              "  </div>\n",
              "  "
            ]
          },
          "metadata": {},
          "execution_count": 11
        }
      ]
    },
    {
      "cell_type": "markdown",
      "source": [
        "### 4\\.2 Controle de Qualidade"
      ],
      "metadata": {
        "id": "Z_7uLJXpGyi2"
      }
    },
    {
      "cell_type": "code",
      "source": [
        "situacao_df.info()"
      ],
      "metadata": {
        "colab": {
          "base_uri": "https://localhost:8080/"
        },
        "id": "QU5Iu0FVGzSW",
        "outputId": "f42ef933-6c37-45fa-d967-bc8c8fde7d78"
      },
      "execution_count": 12,
      "outputs": [
        {
          "output_type": "stream",
          "name": "stdout",
          "text": [
            "<class 'pandas.core.frame.DataFrame'>\n",
            "RangeIndex: 3 entries, 0 to 2\n",
            "Data columns (total 2 columns):\n",
            " #   Column      Non-Null Count  Dtype \n",
            "---  ------      --------------  ----- \n",
            " 0   Situação    3 non-null      object\n",
            " 1   Frequência  3 non-null      int64 \n",
            "dtypes: int64(1), object(1)\n",
            "memory usage: 176.0+ bytes\n"
          ]
        }
      ]
    },
    {
      "cell_type": "code",
      "source": [
        "situacao_df.isna().any()"
      ],
      "metadata": {
        "colab": {
          "base_uri": "https://localhost:8080/"
        },
        "id": "uJMkJRy-G9vx",
        "outputId": "7649786f-d8aa-4e3b-903b-6b71c7a53c52"
      },
      "execution_count": 13,
      "outputs": [
        {
          "output_type": "execute_result",
          "data": {
            "text/plain": [
              "Situação      False\n",
              "Frequência    False\n",
              "dtype: bool"
            ]
          },
          "metadata": {},
          "execution_count": 13
        }
      ]
    },
    {
      "cell_type": "markdown",
      "source": [
        "\n",
        "\n",
        "---\n",
        "\n",
        "\n",
        "\n",
        "## 5\\. Visualização"
      ],
      "metadata": {
        "id": "WrGAFG3zHHae"
      }
    },
    {
      "cell_type": "markdown",
      "source": [
        "### 5\\.1 Visualização no Gráfico de Pizza"
      ],
      "metadata": {
        "id": "GaYEYWTTHJtJ"
      }
    },
    {
      "cell_type": "code",
      "source": [
        "plt.pie(contagem, autopct='%1.1f%%')\n",
        "plt.axis('equal')\n",
        "\n",
        "legenda = ['{}: {}'.format(regiao, valor) for regiao, valor in zip(contagem.index, contagem.values)]\n",
        "plt.legend(legenda, loc='center left', bbox_to_anchor=(1, 0.5))\n",
        "\n",
        "plt.title('Situação dos Livros na Estante')"
      ],
      "metadata": {
        "colab": {
          "base_uri": "https://localhost:8080/",
          "height": 445
        },
        "id": "GuiomJiLHRlJ",
        "outputId": "17433037-69f7-43a9-92e7-240fd9b24dc4"
      },
      "execution_count": 14,
      "outputs": [
        {
          "output_type": "execute_result",
          "data": {
            "text/plain": [
              "Text(0.5, 1.0, 'Situação dos Livros na Estante')"
            ]
          },
          "metadata": {},
          "execution_count": 14
        },
        {
          "output_type": "display_data",
          "data": {
            "text/plain": [
              "<Figure size 640x480 with 1 Axes>"
            ],
            "image/png": "[encoded data removed]"
          },
          "metadata": {}
        }
      ]
    },
    {
      "cell_type": "markdown",
      "source": [
        "### 5\\.2 Visualização no Gráfico de Barras"
      ],
      "metadata": {
        "id": "wxtTIImtJL46"
      }
    },
    {
      "cell_type": "code",
      "source": [
        "with sns.axes_style('whitegrid'):\n",
        "  grafico = sns.barplot(data=situacao_df, x=\"Situação\", y=\"Frequência\", errorbar=None, palette='magma')\n",
        "  grafico.set(title='Situação dos Livros na Estante', xlabel='Situação', ylabel='Frequência');"
      ],
      "metadata": {
        "colab": {
          "base_uri": "https://localhost:8080/",
          "height": 472
        },
        "id": "jhFKVM84JfBx",
        "outputId": "ae61af73-48d6-4926-f2f2-1658d485cf89"
      },
      "execution_count": 15,
      "outputs": [
        {
          "output_type": "display_data",
          "data": {
            "text/plain": [
              "<Figure size 640x480 with 1 Axes>"
            ],
            "image/png": "[encoded data removed]"
          },
          "metadata": {}
        }
      ]
    },
    {
      "cell_type": "markdown",
      "source": [
        "\n",
        "\n",
        "---\n",
        "\n",
        "\n",
        "\n",
        "## 6\\. Insights"
      ],
      "metadata": {
        "id": "4Mep-AByKITB"
      }
    },
    {
      "cell_type": "markdown",
      "source": [
        "- A maior parte dos livros da estante já foram lidos.\n",
        "- Há uma grande disparidade entre o número de livros lidos, em relação aos não lidos e os que se encontram em processo de leitura.\n",
        "- Para aumentar a quantidade de livros lidos de forma mais eficiente, é mais vantajoso acabar de ler os livros que se encontram na categoria lendo, já que eles estão em menor quantidade.\n",
        "- Ao invés de comprar livros novos, pode ser melhor terminar de ler todos os outros livros que não estão na categoria lido.\n",
        "\n"
      ],
      "metadata": {
        "id": "rVTYBKwbKUaa"
      }
    }
  ]
}